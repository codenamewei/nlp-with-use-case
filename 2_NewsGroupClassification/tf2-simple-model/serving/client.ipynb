{
 "cells": [
  {
   "cell_type": "markdown",
   "metadata": {},
   "source": [
    "## Serving of Tensorflow2 model with Konduit-serving\n",
    "\n",
    "Step 1: Initiate the server with  \n",
    "konduit serve --config config.yaml  \n",
    "\n",
    "Step 2: Run client.ipynb"
   ]
  },
  {
   "cell_type": "code",
   "execution_count": 4,
   "metadata": {},
   "outputs": [
    {
     "name": "stderr",
     "output_type": "stream",
     "text": [
      "INFO:root:Test\n"
     ]
    }
   ],
   "source": [
    "import re\n",
    "import io\n",
    "import logging\n",
    "import time\n",
    "import numpy as np\n",
    "import pickle\n",
    "import tensorflow as tf\n",
    "\n",
    "from konduit.load import client_from_file\n",
    "\n",
    "logging.basicConfig(level='DEBUG')\n",
    "logging.info(\"Test\")\n"
   ]
  },
  {
   "cell_type": "code",
   "execution_count": 5,
   "metadata": {},
   "outputs": [
    {
     "name": "stderr",
     "output_type": "stream",
     "text": [
      "DEBUG:urllib3.connectionpool:Starting new HTTP connection (1): localhost:65322\n"
     ]
    },
    {
     "name": "stdout",
     "output_type": "stream",
     "text": [
      "Load index label\n"
     ]
    },
    {
     "name": "stderr",
     "output_type": "stream",
     "text": [
      "DEBUG:urllib3.connectionpool:http://localhost:65322 \"GET /healthcheck HTTP/1.1\" 204 0\n",
      "DEBUG:urllib3.connectionpool:Starting new HTTP connection (1): localhost:65322\n",
      "DEBUG:urllib3.connectionpool:http://localhost:65322 \"GET /config HTTP/1.1\" 200 910\n",
      "INFO:root:Retrieved config is\n"
     ]
    }
   ],
   "source": [
    "\n",
    "input_path = 'D:\\\\Users\\\\chiawei\\\\konduit\\\\Github\\\\newsgroup_data\\\\20news-bydate\\\\20news-bydate-test\\\\misc.forsale\\\\76128'\n",
    "#input_path = 'D:\\\\Users\\\\chiawei\\\\konduit\\\\Github\\\\newsgroup_data\\\\20news-bydate\\\\20news-bydate-test\\\\rec.autos\\\\103066'\n",
    "#input_path = 'D:\\\\Users\\\\chiawei\\\\konduit\\\\Github\\\\newsgroup_data\\\\20news-bydate\\\\20news-bydate-test\\\\comp.os.ms-windows.misc\\\\10003'\n",
    "\n",
    "handle = open(input_path, 'r')\n",
    "input_data = list([handle.read()])\n",
    "\n",
    "tokenizer_path = 'tokenizer.pickle'\n",
    "handle = open(tokenizer_path, 'rb')\n",
    "tokenizer = pickle.load(handle)\n",
    "\n",
    "print('Load index label')\n",
    "label_path = \"labelclass.pickle\"\n",
    "labelhandler = open(label_path, 'rb')\n",
    "labelhandler = pickle.load(labelhandler)\n",
    "\n",
    "MAX_LEN = 256\n",
    "input_sequence = tokenizer.texts_to_sequences(input_data)\n",
    "input = tf.keras.preprocessing.sequence.pad_sequences(input_sequence, maxlen = MAX_LEN, padding = \"post\")\n",
    "\n",
    "client = client_from_file(\"config.yaml\")\n"
   ]
  },
  {
   "cell_type": "code",
   "execution_count": 8,
   "metadata": {},
   "outputs": [
    {
     "name": "stderr",
     "output_type": "stream",
     "text": [
      "DEBUG:urllib3.connectionpool:Starting new HTTP connection (1): localhost:65322\n",
      "DEBUG:urllib3.connectionpool:http://localhost:65322 \"POST /classification/numpy HTTP/1.1\" 200 610\n",
      "DEBUG:urllib3.connectionpool:Starting new HTTP connection (1): localhost:65322\n",
      "DEBUG:urllib3.connectionpool:http://localhost:65322 \"POST /classification/numpy HTTP/1.1\" 200 610\n",
      "DEBUG:urllib3.connectionpool:Starting new HTTP connection (1): localhost:65322\n",
      "DEBUG:urllib3.connectionpool:http://localhost:65322 \"POST /classification/numpy HTTP/1.1\" 200 610\n",
      "DEBUG:urllib3.connectionpool:Starting new HTTP connection (1): localhost:65322\n",
      "DEBUG:urllib3.connectionpool:http://localhost:65322 \"POST /classification/numpy HTTP/1.1\" 200 610\n",
      "DEBUG:urllib3.connectionpool:Starting new HTTP connection (1): localhost:65322\n",
      "DEBUG:urllib3.connectionpool:http://localhost:65322 \"POST /classification/numpy HTTP/1.1\" 200 610\n",
      "DEBUG:urllib3.connectionpool:Starting new HTTP connection (1): localhost:65322\n",
      "DEBUG:urllib3.connectionpool:http://localhost:65322 \"POST /classification/numpy HTTP/1.1\" 200 610\n",
      "DEBUG:urllib3.connectionpool:Starting new HTTP connection (1): localhost:65322\n",
      "DEBUG:urllib3.connectionpool:http://localhost:65322 \"POST /classification/numpy HTTP/1.1\" 200 610\n",
      "DEBUG:urllib3.connectionpool:Starting new HTTP connection (1): localhost:65322\n",
      "DEBUG:urllib3.connectionpool:http://localhost:65322 \"POST /classification/numpy HTTP/1.1\" 200 610\n",
      "DEBUG:urllib3.connectionpool:Starting new HTTP connection (1): localhost:65322\n",
      "DEBUG:urllib3.connectionpool:http://localhost:65322 \"POST /classification/numpy HTTP/1.1\" 200 610\n",
      "DEBUG:urllib3.connectionpool:Starting new HTTP connection (1): localhost:65322\n",
      "DEBUG:urllib3.connectionpool:http://localhost:65322 \"POST /classification/numpy HTTP/1.1\" 200 610\n"
     ]
    },
    {
     "name": "stdout",
     "output_type": "stream",
     "text": [
      "20.536259 seconds elapsed for 10 requests (0 RPS)\n"
     ]
    }
   ],
   "source": [
    "responses = []\n",
    "\n",
    "start = time.time()\n",
    "\n",
    "for i in range(10):\n",
    "    response = client.predict({\"default\": input})\n",
    "    responses.append(response)\n",
    "\n",
    "end = time.time()\n",
    "\n",
    "print(\"%f seconds elapsed for %d requests (%d RPS)\" % (end - start, len(responses), (10.0 / (end - start))))"
   ]
  },
  {
   "cell_type": "code",
   "execution_count": 9,
   "metadata": {},
   "outputs": [
    {
     "name": "stderr",
     "output_type": "stream",
     "text": [
      "DEBUG:urllib3.connectionpool:Starting new HTTP connection (1): localhost:65322\n",
      "DEBUG:urllib3.connectionpool:http://localhost:65322 \"POST /classification/numpy HTTP/1.1\" 200 610\n"
     ]
    },
    {
     "name": "stdout",
     "output_type": "stream",
     "text": [
      "Class: misc.forsale\n",
      "Probabilities: 0.9295534491539001\n"
     ]
    }
   ],
   "source": [
    "response = client.predict({\"default\": input})\n",
    "\n",
    "results = response[\"output\"][\"probabilities\"]\n",
    "index = int(np.argmax(response['output']['probabilities'], 1)[0])\n",
    "\n",
    "print(\"Class: {}\".format(labelhandler[index]))\n",
    "print(\"Probabilities: {}\".format(np.max(response['output']['probabilities'])))"
   ]
  },
  {
   "cell_type": "code",
   "execution_count": null,
   "metadata": {},
   "outputs": [],
   "source": []
  }
 ],
 "metadata": {
  "kernelspec": {
   "display_name": "Python 3",
   "language": "python",
   "name": "python3"
  },
  "language_info": {
   "codemirror_mode": {
    "name": "ipython",
    "version": 3
   },
   "file_extension": ".py",
   "mimetype": "text/x-python",
   "name": "python",
   "nbconvert_exporter": "python",
   "pygments_lexer": "ipython3",
   "version": "3.7.6"
  }
 },
 "nbformat": 4,
 "nbformat_minor": 4
}
